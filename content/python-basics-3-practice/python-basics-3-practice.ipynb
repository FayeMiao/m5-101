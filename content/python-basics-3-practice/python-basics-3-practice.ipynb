{
 "cells": [
  {
   "cell_type": "markdown",
   "id": "challenging-resistance",
   "metadata": {},
   "source": [
    "# Python 基础练习2"
   ]
  },
  {
   "cell_type": "markdown",
   "id": "convenient-costa",
   "metadata": {},
   "source": [
    "## 函数定义——示例"
   ]
  },
  {
   "cell_type": "code",
   "execution_count": 1,
   "id": "married-cooking",
   "metadata": {},
   "outputs": [
    {
     "name": "stdout",
     "output_type": "stream",
     "text": [
      "3\n",
      "24\n"
     ]
    }
   ],
   "source": [
    "# 定义函数\n",
    "\n",
    "def myAdd(a, b):\n",
    "    return a + b\n",
    "\n",
    "def myMultiply(a, b):\n",
    "    return a * b\n",
    "\n",
    "print(myAdd(1, 2))\n",
    "print(myMultiply(4, 6))"
   ]
  },
  {
   "cell_type": "code",
   "execution_count": 2,
   "id": "loved-greek",
   "metadata": {},
   "outputs": [],
   "source": [
    "result = myMultiply(myAdd(1,2), 4)\n",
    "# 想想　result 是多少呢？"
   ]
  },
  {
   "cell_type": "code",
   "execution_count": 3,
   "id": "present-pricing",
   "metadata": {},
   "outputs": [
    {
     "name": "stdout",
     "output_type": "stream",
     "text": [
      "12\n"
     ]
    }
   ],
   "source": [
    "print(result)"
   ]
  },
  {
   "cell_type": "markdown",
   "id": "vocational-innocent",
   "metadata": {},
   "source": [
    "## 函数定义——练习"
   ]
  },
  {
   "cell_type": "code",
   "execution_count": 4,
   "id": "colonial-oxide",
   "metadata": {},
   "outputs": [],
   "source": [
    "# 定义一个函数，计算平面直角坐标系里面两个点(x1, y1), (x2, y2)之间的距离\n",
    "def calculateDistance(x1, y1, x2, y2):\n",
    "    return None"
   ]
  },
  {
   "cell_type": "code",
   "execution_count": 5,
   "id": "boring-valentine",
   "metadata": {},
   "outputs": [],
   "source": [
    "# 计算 fibonacci（斐波那契）数列的第 n 个数\n",
    "# fibonacci 数列的前几个是 1, 1, 2, 3, 5, 8, 13...\n",
    "def fibonacci(x):\n",
    "    return None"
   ]
  },
  {
   "cell_type": "markdown",
   "id": "russian-header",
   "metadata": {},
   "source": [
    "## 高阶函数——示例"
   ]
  },
  {
   "cell_type": "code",
   "execution_count": 6,
   "id": "suspected-arrow",
   "metadata": {},
   "outputs": [
    {
     "name": "stdout",
     "output_type": "stream",
     "text": [
      "30\n",
      "11\n"
     ]
    }
   ],
   "source": [
    "# 定义一个函数，返回这个数的三倍\n",
    "def multiply_by_three(x):\n",
    "    return x * 3\n",
    "\n",
    "# 定义一个函数，返回这个数加二\n",
    "def add_two(x):\n",
    "    return x + 2\n",
    "\n",
    "print(multiply_by_three(10))\n",
    "print(add_two(9))"
   ]
  },
  {
   "cell_type": "code",
   "execution_count": 7,
   "id": "dangerous-registration",
   "metadata": {},
   "outputs": [
    {
     "name": "stdout",
     "output_type": "stream",
     "text": [
      "90\n",
      "11\n"
     ]
    }
   ],
   "source": [
    "# 定义一个函数，把给定的函数运用两遍到给定的数字上\n",
    "def twice(f, x):\n",
    "    return f(f(x))\n",
    "\n",
    "print(twice(multiply_by_three, 10))\n",
    "print(add_two(9))"
   ]
  },
  {
   "cell_type": "code",
   "execution_count": 8,
   "id": "interracial-motel",
   "metadata": {},
   "outputs": [
    {
     "name": "stdout",
     "output_type": "stream",
     "text": [
      "13\n",
      "90\n"
     ]
    }
   ],
   "source": [
    "# 定义一个函数，返回一个新的函数，相当于把原来的函数的效果翻倍。\n",
    "def twice_v2(f):\n",
    "    def new_f(x):\n",
    "        return f(f(x))\n",
    "    return new_f\n",
    "\n",
    "add_four = twice_v2(add_two)\n",
    "print(add_four(9))\n",
    "multiply_by_nine = twice_v2(multiply_by_three)\n",
    "print(multiply_by_nine(10))"
   ]
  },
  {
   "cell_type": "markdown",
   "id": "detailed-tension",
   "metadata": {},
   "source": [
    "## 高阶函数——练习"
   ]
  },
  {
   "cell_type": "code",
   "execution_count": 9,
   "id": "certain-arrangement",
   "metadata": {},
   "outputs": [],
   "source": [
    "# 定义一个函数，把两个给定的函数 (f 和 g）按照顺序运用到给定的数字上\n",
    "def compose(f, g, x):\n",
    "    return None"
   ]
  },
  {
   "cell_type": "code",
   "execution_count": 10,
   "id": "thermal-kelly",
   "metadata": {},
   "outputs": [],
   "source": [
    "# 定义一个函数，把数组里所有的数字经过函数运算后输出\n",
    "def print_all(f, numbers):\n",
    "    for number in numbers:\n",
    "        print(f(number))\n",
    "        \n",
    "x = [1,2,3,4,5]\n",
    "# 请定义一个函数，并使用 print_all 函数，打印出 2,4,6,8,10"
   ]
  }
 ],
 "metadata": {
  "kernelspec": {
   "display_name": "Python 3",
   "language": "python",
   "name": "python3"
  },
  "language_info": {
   "codemirror_mode": {
    "name": "ipython",
    "version": 3
   },
   "file_extension": ".py",
   "mimetype": "text/x-python",
   "name": "python",
   "nbconvert_exporter": "python",
   "pygments_lexer": "ipython3",
   "version": "3.6.9"
  }
 },
 "nbformat": 4,
 "nbformat_minor": 5
}
