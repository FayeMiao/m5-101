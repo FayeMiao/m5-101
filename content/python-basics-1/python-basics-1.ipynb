{
 "cells": [
  {
   "cell_type": "markdown",
   "metadata": {},
   "source": [
    "# 数据类型和基本语句\n",
    "本章包含：\n",
    "- 基本运算符\n",
    "- 赋值语句\n",
    "- 数据类型\n",
    "- 条件语句\n",
    "- 循环语句\n",
    "\n",
    "\n",
    "## 基本运算符\n",
    "Python 可以当计算器来用哟。  \n",
    "还记得`print`命令吗？我们会用它来输出运算结果。  \n",
    "**注意引号的使用**。至于为什么，我们在`数据类型`里会解释。  "
   ]
  },
  {
   "cell_type": "code",
   "execution_count": 1,
   "metadata": {},
   "outputs": [
    {
     "name": "stdout",
     "output_type": "stream",
     "text": [
      "加法：1 + 2 的结果是：\n",
      "3\n",
      "乘法：4 * 6 的结果是：\n",
      "24\n",
      "除法：24 / 4 的结果是：\n",
      "6.0\n",
      "除法：24 / 9 的结果是：\n",
      "2.6666666666666665\n",
      "整除（做除法后取整数部分）：24 // 9 的结果是：\n",
      "2\n",
      "取余：24 % 9 的结果是：\n",
      "6\n",
      "取幂（一个数的n次方）：9 ** 2 的结果是：\n",
      "81\n"
     ]
    }
   ],
   "source": [
    "print(\"加法：1 + 2 的结果是：\")\n",
    "print(1 + 2)\n",
    "print(\"乘法：4 * 6 的结果是：\")\n",
    "print(4 * 6)\n",
    "print(\"除法：24 / 4 的结果是：\")\n",
    "print(24 / 4)\n",
    "print(\"除法：24 / 9 的结果是：\")\n",
    "print(24 / 9)\n",
    "print(\"整除（做除法后取整数部分）：24 // 9 的结果是：\")\n",
    "print(24 // 9)\n",
    "print(\"取余：24 % 9 的结果是：\")\n",
    "print(24 % 9)\n",
    "print(\"取幂（一个数的n次方）：9 ** 2 的结果是：\")\n",
    "print(9 ** 2)"
   ]
  },
  {
   "cell_type": "markdown",
   "metadata": {},
   "source": [
    "用 Python 写算式和用笔写算式的规则是一模一样的。  \n",
    "### 一个例子\n",
    "求二维空间中坐标为`(4,5)`和`(1,1)`两个点之间的距离："
   ]
  },
  {
   "cell_type": "code",
   "execution_count": 2,
   "metadata": {},
   "outputs": [
    {
     "name": "stdout",
     "output_type": "stream",
     "text": [
      "5.0\n"
     ]
    }
   ],
   "source": [
    "print(((4 - 1) ** 2 + (5 - 1) ** 2) ** 0.5)"
   ]
  },
  {
   "cell_type": "markdown",
   "metadata": {},
   "source": [
    "`** 0.5` 就是取 0.5 次方，也就是开平方。  \n",
    "另外，注意一下括号的使用。必须完全正确才行。"
   ]
  },
  {
   "cell_type": "markdown",
   "metadata": {},
   "source": [
    "## 赋值语句\n",
    "就像我们小学数学课，学习方程，设置未知数ｘ和ｙ一样，编程的时候，为了方便，也会这么做。只不过，编程时候的未知数，叫做**变量**。"
   ]
  },
  {
   "cell_type": "code",
   "execution_count": 3,
   "metadata": {},
   "outputs": [
    {
     "name": "stdout",
     "output_type": "stream",
     "text": [
      "2\n"
     ]
    }
   ],
   "source": [
    "x = 1     # 设 x = 1\n",
    "y = x + 1 # 设　y = x + 1\n",
    "print(y)  # 于是，y 就是 ２ 啦！"
   ]
  },
  {
   "cell_type": "markdown",
   "metadata": {},
   "source": [
    "唯一与数学不同的地方在于以下的情况"
   ]
  },
  {
   "cell_type": "code",
   "execution_count": 4,
   "metadata": {},
   "outputs": [
    {
     "name": "stdout",
     "output_type": "stream",
     "text": [
      "2\n"
     ]
    }
   ],
   "source": [
    "x = 1     # 设 x = 1 \n",
    "x = x + 1 # 先计算等式右边的 x + 1，结果是 2，然后让 x 等于等号右边的东西\n",
    "print(x)  # 于是 x 就是 2 啦！"
   ]
  },
  {
   "cell_type": "markdown",
   "metadata": {},
   "source": [
    "我们也可以重写最开始的 `Hello World` 程序："
   ]
  },
  {
   "cell_type": "code",
   "execution_count": 5,
   "metadata": {},
   "outputs": [
    {
     "name": "stdout",
     "output_type": "stream",
     "text": [
      "Hello world!\n"
     ]
    }
   ],
   "source": [
    "x = \"Hello world!\" # 让 x 等于 \"Hello World!\" 这句话\n",
    "print(x)           # 输出 x"
   ]
  },
  {
   "cell_type": "markdown",
   "metadata": {},
   "source": [
    "## 数据类型\n",
    "\n",
    "### 数字和字符串\n",
    "我们可以让一个未知数（变量）等于不同类型的**值**。  \n",
    "- 比如当我们运行 `x = 3 + 5` 的时候，`x` 的类型是**数字**，值是`8`。  \n",
    "- 当我们运行 `x = \"Hello world!\"` 的时候，`x` 的类型是**字符串**，值是`\"Hello world!\"`。  \n",
    "- 当我们运行 `x = \"3 + 5\"` 的时候（注意引号）, `x` 的类型是**字符串**，值是`\"3 + 5\"`。  \n",
    "\n",
    "### 列表\n",
    "就是一个排好顺序的盒子，啥都能往里放。"
   ]
  },
  {
   "cell_type": "code",
   "execution_count": 6,
   "metadata": {},
   "outputs": [
    {
     "name": "stdout",
     "output_type": "stream",
     "text": [
      "[3, 1, 4, 1, 5, 'hello', 9, 2, 'world', 5]\n"
     ]
    }
   ],
   "source": [
    "x = [3, 1, 4, 1, 5, \"hello\", 9, 2, \"world\", 5]\n",
    "print(x)"
   ]
  },
  {
   "cell_type": "markdown",
   "metadata": {},
   "source": [
    "程序猿们是从 0 开始数数的，所以第 0 个东西是 3，第 1 个是 1，...。  \n",
    "这样数数，想拿第 5 个东西（`hello` 字符串）的时候，只需要："
   ]
  },
  {
   "cell_type": "code",
   "execution_count": 7,
   "metadata": {},
   "outputs": [
    {
     "name": "stdout",
     "output_type": "stream",
     "text": [
      "hello\n"
     ]
    }
   ],
   "source": [
    "item = x[5]\n",
    "print(item)"
   ]
  },
  {
   "cell_type": "markdown",
   "metadata": {},
   "source": [
    "你也可以直接把它设置成其它东西，像这样："
   ]
  },
  {
   "cell_type": "code",
   "execution_count": 8,
   "metadata": {},
   "outputs": [
    {
     "name": "stdout",
     "output_type": "stream",
     "text": [
      "[3, 1, 4, 1, 5, 'greetings', 9, 2, 'world', 5]\n"
     ]
    }
   ],
   "source": [
    "another_item = \"greetings\"\n",
    "x[5] = another_item\n",
    "print(x)"
   ]
  },
  {
   "cell_type": "markdown",
   "metadata": {},
   "source": [
    "注意，这里 `item` 和 `another_item` 都是变量的名字，就像 `x`, `y` 和 `z` 一样，都是随便起的，能表达意思就好。"
   ]
  },
  {
   "cell_type": "markdown",
   "metadata": {},
   "source": [
    "### 开关(Boolean)\n",
    "一个开关类型的变量，要么是 `True`，要么是 `False`，就像开关一样，要么是开，要么是关。  \n",
    "与之相关联的，是数值大小的判断的操作`>`, `<`, `==`, `!=`："
   ]
  },
  {
   "cell_type": "code",
   "execution_count": 9,
   "metadata": {},
   "outputs": [
    {
     "name": "stdout",
     "output_type": "stream",
     "text": [
      "True\n"
     ]
    }
   ],
   "source": [
    "x = 5\n",
    "print(x > 4)"
   ]
  },
  {
   "cell_type": "code",
   "execution_count": 10,
   "metadata": {},
   "outputs": [
    {
     "name": "stdout",
     "output_type": "stream",
     "text": [
      "False\n"
     ]
    }
   ],
   "source": [
    "print(x < 4)"
   ]
  },
  {
   "cell_type": "code",
   "execution_count": 11,
   "metadata": {},
   "outputs": [
    {
     "name": "stdout",
     "output_type": "stream",
     "text": [
      "True\n"
     ]
    }
   ],
   "source": [
    "print(x == 5)"
   ]
  },
  {
   "cell_type": "code",
   "execution_count": 12,
   "metadata": {},
   "outputs": [
    {
     "name": "stdout",
     "output_type": "stream",
     "text": [
      "False\n"
     ]
    }
   ],
   "source": [
    "print(x != 5)"
   ]
  },
  {
   "cell_type": "markdown",
   "metadata": {},
   "source": [
    "以及逻辑操作 `and`, `or`, `not`："
   ]
  },
  {
   "cell_type": "code",
   "execution_count": 13,
   "metadata": {},
   "outputs": [
    {
     "name": "stdout",
     "output_type": "stream",
     "text": [
      "False\n"
     ]
    }
   ],
   "source": [
    "a = True\n",
    "b = False\n",
    "print(a and b)"
   ]
  },
  {
   "cell_type": "code",
   "execution_count": 14,
   "metadata": {},
   "outputs": [
    {
     "name": "stdout",
     "output_type": "stream",
     "text": [
      "True\n"
     ]
    }
   ],
   "source": [
    "print(a or b)"
   ]
  },
  {
   "cell_type": "code",
   "execution_count": 15,
   "metadata": {},
   "outputs": [
    {
     "name": "stdout",
     "output_type": "stream",
     "text": [
      "True\n"
     ]
    }
   ],
   "source": [
    "print(not b)"
   ]
  },
  {
   "cell_type": "markdown",
   "metadata": {},
   "source": [
    "开关变量会在条件语句中使用。"
   ]
  },
  {
   "cell_type": "markdown",
   "metadata": {},
   "source": [
    "### 还有很多...\n",
    "Python 中还有很多种数据类型，它们就像各种容器一样（杯子啊，脸盆啊甚至水库），有不同的使用方法。我们之后会接触到更多。"
   ]
  },
  {
   "cell_type": "markdown",
   "metadata": {},
   "source": [
    "## 条件语句"
   ]
  },
  {
   "cell_type": "markdown",
   "metadata": {},
   "source": [
    "条件语句的结构大概是这样\n",
    "```python\n",
    "if 开关类型的值1:\n",
    "    命令１\n",
    "elif 开关类型的值2:\n",
    "    命令２\n",
    "elif 开关类型的值3：\n",
    "    命令3\n",
    "else:\n",
    "    命令4\n",
    "```\n"
   ]
  },
  {
   "cell_type": "markdown",
   "metadata": {},
   "source": [
    "### 一个例子"
   ]
  },
  {
   "cell_type": "code",
   "execution_count": 16,
   "metadata": {},
   "outputs": [
    {
     "name": "stdout",
     "output_type": "stream",
     "text": [
      "这个值大于 5\n"
     ]
    }
   ],
   "source": [
    "x = 6\n",
    "if x > 5:\n",
    "    print(\"这个值大于 5\")\n",
    "elif x == 5:\n",
    "    print(\"这个值等于 5\")\n",
    "else:\n",
    "    print(\"这个值小于 5\")"
   ]
  },
  {
   "cell_type": "markdown",
   "metadata": {},
   "source": [
    "条件语句会从上到下查看每一个`开关类型的值`，如果是 `True`，就执行对应的命令。"
   ]
  },
  {
   "cell_type": "markdown",
   "metadata": {},
   "source": [
    "## For 循环语句"
   ]
  },
  {
   "cell_type": "markdown",
   "metadata": {},
   "source": [
    "```python\n",
    "for 变量 in [x1, x2, ... ]:\n",
    "    执行命令...\n",
    "```"
   ]
  },
  {
   "cell_type": "markdown",
   "metadata": {},
   "source": [
    "### 一个例子"
   ]
  },
  {
   "cell_type": "code",
   "execution_count": 17,
   "metadata": {},
   "outputs": [
    {
     "name": "stdout",
     "output_type": "stream",
     "text": [
      "小于 5\n",
      "等于 5\n",
      "小于 5\n",
      "大于 5\n",
      "小于 5\n"
     ]
    }
   ],
   "source": [
    "items = [1, 5, 4, 6, 0]\n",
    "for item in items:\n",
    "    if item > 5:\n",
    "        print(\"大于 5\")\n",
    "    elif item == 5:\n",
    "        print(\"等于 5\")\n",
    "    else:\n",
    "        print(\"小于 5\")"
   ]
  },
  {
   "cell_type": "markdown",
   "metadata": {},
   "source": [
    "在这个循环中，我们把 `items` 中的每一个元素取出，赋值给 `item`，然后根据 `item` 的值完成一系列操作。"
   ]
  },
  {
   "cell_type": "markdown",
   "metadata": {},
   "source": [
    "## While 循环语句\n"
   ]
  },
  {
   "cell_type": "markdown",
   "metadata": {},
   "source": [
    "```python\n",
    "while 开关类型的值:\n",
    "    执行命令\n",
    "```\n",
    "\n",
    "每当`执行命令`完成后，程序会重新计算一下 `开关类型的值`，如果是 `True`，那么`执行命令`会被再次执行，直到`开关类型的值`变成`False`。"
   ]
  },
  {
   "cell_type": "markdown",
   "metadata": {},
   "source": [
    "### 一个例子"
   ]
  },
  {
   "cell_type": "code",
   "execution_count": 18,
   "metadata": {},
   "outputs": [
    {
     "name": "stdout",
     "output_type": "stream",
     "text": [
      "1\n",
      "2\n",
      "3\n",
      "4\n",
      "5\n",
      "6\n",
      "7\n",
      "8\n",
      "9\n",
      "10\n"
     ]
    }
   ],
   "source": [
    "x = 0\n",
    "while x < 10:\n",
    "    x = x + 1\n",
    "    print(x)"
   ]
  },
  {
   "cell_type": "markdown",
   "metadata": {},
   "source": [
    "### 另一个例子"
   ]
  },
  {
   "cell_type": "markdown",
   "metadata": {},
   "source": [
    "下面这个程序会造成所谓的`死循环`，程序永远无法完成执行，并且会无数次地输出。\n",
    "```python\n",
    "x = 1\n",
    "while x > 0:\n",
    "    x = x + 1\n",
    "    print(x)\n",
    "\n",
    "```"
   ]
  },
  {
   "cell_type": "markdown",
   "metadata": {},
   "source": [
    "## Cases"
   ]
  },
  {
   "cell_type": "markdown",
   "metadata": {},
   "source": [
    "### Case 1\n",
    "在 `Hello World` 程序中，如果这样写：\n",
    "`print(Hello World)`（不加引号）会怎么样呢？"
   ]
  },
  {
   "cell_type": "code",
   "execution_count": 19,
   "metadata": {
    "scrolled": true
   },
   "outputs": [
    {
     "ename": "SyntaxError",
     "evalue": "invalid syntax (<ipython-input-19-01a3c6a17cb8>, line 1)",
     "output_type": "error",
     "traceback": [
      "\u001b[0;36m  File \u001b[0;32m\"<ipython-input-19-01a3c6a17cb8>\"\u001b[0;36m, line \u001b[0;32m1\u001b[0m\n\u001b[0;31m    print(Hello world!)\u001b[0m\n\u001b[0m                    ^\u001b[0m\n\u001b[0;31mSyntaxError\u001b[0m\u001b[0;31m:\u001b[0m invalid syntax\n"
     ]
    }
   ],
   "source": [
    "print(Hello world!)"
   ]
  },
  {
   "cell_type": "markdown",
   "metadata": {},
   "source": [
    "它提示了格式错误。因为计算机不知道你输入的 `Hello world !` 到底是什么东西。"
   ]
  },
  {
   "cell_type": "markdown",
   "metadata": {},
   "source": [
    "### Case 2"
   ]
  },
  {
   "cell_type": "code",
   "execution_count": 20,
   "metadata": {},
   "outputs": [
    {
     "name": "stdout",
     "output_type": "stream",
     "text": [
      "3\n",
      "1 + 2\n"
     ]
    }
   ],
   "source": [
    "print(1 + 2)\n",
    "print(\"1 + 2\")"
   ]
  },
  {
   "cell_type": "markdown",
   "metadata": {},
   "source": [
    "它俩有什么不同呢？  \n",
    "- 引号包裹的东西，我们叫它**字符串**。丢给`print`的时候，引号里面是啥，出来就是啥。\n",
    "- 不加字符串的时候，它会进行加法运算，得出一个**数字**。"
   ]
  }
 ],
 "metadata": {
  "kernelspec": {
   "display_name": "Python 3",
   "language": "python",
   "name": "python3"
  },
  "language_info": {
   "codemirror_mode": {
    "name": "ipython",
    "version": 3
   },
   "file_extension": ".py",
   "mimetype": "text/x-python",
   "name": "python",
   "nbconvert_exporter": "python",
   "pygments_lexer": "ipython3",
   "version": "3.6.9"
  }
 },
 "nbformat": 4,
 "nbformat_minor": 4
}
