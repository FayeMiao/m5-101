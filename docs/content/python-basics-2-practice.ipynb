{
 "cells": [
  {
   "cell_type": "markdown",
   "id": "international-leonard",
   "metadata": {},
   "source": [
    "# Python 基础练习2"
   ]
  },
  {
   "cell_type": "markdown",
   "id": "green-shakespeare",
   "metadata": {},
   "source": [
    "## 函数定义——示例"
   ]
  },
  {
   "cell_type": "code",
   "execution_count": 1,
   "id": "touched-kinase",
   "metadata": {},
   "outputs": [
    {
     "name": "stdout",
     "output_type": "stream",
     "text": [
      "3\n",
      "24\n"
     ]
    }
   ],
   "source": [
    "# 定义函数\n",
    "\n",
    "def myAdd(a, b):\n",
    "    return a + b\n",
    "\n",
    "def myMultiply(a, b):\n",
    "    return a * b\n",
    "\n",
    "print(myAdd(1, 2))\n",
    "print(myMultiply(4, 6))"
   ]
  },
  {
   "cell_type": "code",
   "execution_count": 2,
   "id": "otherwise-murder",
   "metadata": {},
   "outputs": [],
   "source": [
    "result = myMultiply(myAdd(1,2), 4)\n",
    "# 想想　result 是多少呢？"
   ]
  },
  {
   "cell_type": "code",
   "execution_count": 3,
   "id": "rental-prerequisite",
   "metadata": {},
   "outputs": [
    {
     "name": "stdout",
     "output_type": "stream",
     "text": [
      "12\n"
     ]
    }
   ],
   "source": [
    "print(result)"
   ]
  },
  {
   "cell_type": "markdown",
   "id": "intended-leone",
   "metadata": {},
   "source": [
    "## 函数定义——练习"
   ]
  },
  {
   "cell_type": "code",
   "execution_count": 4,
   "id": "pediatric-exception",
   "metadata": {},
   "outputs": [],
   "source": [
    "# 定义一个函数，计算平面直角坐标系里面两个点(x1, y1), (x2, y2)之间的距离\n",
    "def calculateDistance(x1, y1, x2, y2):\n",
    "    return None"
   ]
  },
  {
   "cell_type": "code",
   "execution_count": 5,
   "id": "tribal-strap",
   "metadata": {},
   "outputs": [],
   "source": [
    "# 计算 fibonacci（斐波那契）数列的第 n 个数\n",
    "# fibonacci 数列的前几个是 1, 1, 2, 3, 5, 8, 13...\n",
    "def fibonacci(x):\n",
    "    return None"
   ]
  },
  {
   "cell_type": "markdown",
   "id": "abstract-perspective",
   "metadata": {},
   "source": [
    "## 高阶函数——示例"
   ]
  },
  {
   "cell_type": "code",
   "execution_count": 6,
   "id": "solar-construction",
   "metadata": {},
   "outputs": [
    {
     "name": "stdout",
     "output_type": "stream",
     "text": [
      "30\n",
      "11\n"
     ]
    }
   ],
   "source": [
    "# 定义一个函数，返回这个数的三倍\n",
    "def multiply_by_three(x):\n",
    "    return x * 3\n",
    "\n",
    "# 定义一个函数，返回这个数加二\n",
    "def add_two(x):\n",
    "    return x + 2\n",
    "\n",
    "print(multiply_by_three(10))\n",
    "print(add_two(9))"
   ]
  },
  {
   "cell_type": "code",
   "execution_count": 7,
   "id": "alert-dodge",
   "metadata": {},
   "outputs": [
    {
     "name": "stdout",
     "output_type": "stream",
     "text": [
      "90\n",
      "11\n"
     ]
    }
   ],
   "source": [
    "# 定义一个函数，把给定的函数运用两遍到给定的数字上\n",
    "def twice(f, x):\n",
    "    return f(f(x))\n",
    "\n",
    "print(twice(multiply_by_three, 10))\n",
    "print(add_two(9))"
   ]
  },
  {
   "cell_type": "code",
   "execution_count": 8,
   "id": "stylish-oxford",
   "metadata": {},
   "outputs": [
    {
     "name": "stdout",
     "output_type": "stream",
     "text": [
      "13\n",
      "90\n"
     ]
    }
   ],
   "source": [
    "# 定义一个函数，返回一个新的函数，相当于把原来的函数的效果翻倍。\n",
    "def twice_v2(f):\n",
    "    def new_f(x):\n",
    "        return f(f(x))\n",
    "    return new_f\n",
    "\n",
    "add_four = twice_v2(add_two)\n",
    "print(add_four(9))\n",
    "multiply_by_nine = twice_v2(multiply_by_three)\n",
    "print(multiply_by_nine(10))"
   ]
  },
  {
   "cell_type": "markdown",
   "id": "nutritional-vampire",
   "metadata": {},
   "source": [
    "## 高阶函数——练习"
   ]
  },
  {
   "cell_type": "code",
   "execution_count": 9,
   "id": "likely-design",
   "metadata": {},
   "outputs": [
    {
     "data": {
      "text/plain": [
       "False"
      ]
     },
     "execution_count": 9,
     "metadata": {},
     "output_type": "execute_result"
    }
   ],
   "source": [
    "# 定义一个函数，把两个给定的函数 (f 和 g）按照顺序运用到给定的数字上，即 f(g(x))\n",
    "def compose(f, g, x):\n",
    "    return None\n",
    "\n",
    "\n",
    "# 这样调用的话，需要等于 21，(5 + 2) * 3 = 21\n",
    "compose(multiply_by_three, add_two, 5) == 21"
   ]
  },
  {
   "cell_type": "code",
   "execution_count": 10,
   "id": "lyric-leonard",
   "metadata": {},
   "outputs": [],
   "source": [
    "# 定义一个函数，把数组里所有的数字经过函数运算后输出\n",
    "def print_all(f, numbers):\n",
    "    for number in numbers:\n",
    "        print(f(number))\n",
    "        \n",
    "x = [1,2,3,4,5]\n",
    "# 请定义一个函数，然后使用 print_all，打印出 2,4,6,8,10"
   ]
  }
 ],
 "metadata": {
  "kernelspec": {
   "display_name": "Python 3",
   "language": "python",
   "name": "python3"
  },
  "language_info": {
   "codemirror_mode": {
    "name": "ipython",
    "version": 3
   },
   "file_extension": ".py",
   "mimetype": "text/x-python",
   "name": "python",
   "nbconvert_exporter": "python",
   "pygments_lexer": "ipython3",
   "version": "3.6.9"
  }
 },
 "nbformat": 4,
 "nbformat_minor": 5
}
