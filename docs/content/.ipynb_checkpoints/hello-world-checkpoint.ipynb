{
 "cells": [
  {
   "cell_type": "markdown",
   "metadata": {},
   "source": [
    "\n",
    "# Hello World\n",
    "\n",
    "这是程序员专属的仪式。学习任何一门新语言、新技术，总是要从输出`Hello World`开始。  \n",
    "打开编辑器，输入以下代码："
   ]
  },
  {
   "cell_type": "code",
   "execution_count": 3,
   "metadata": {},
   "outputs": [
    {
     "name": "stdout",
     "output_type": "stream",
     "text": [
      "Hello World\n"
     ]
    }
   ],
   "source": [
    "print(\"Hello World\")"
   ]
  },
  {
   "cell_type": "markdown",
   "metadata": {},
   "source": [
    "  你可以尝试将`Hello World`改成任意内容，保存后重新运行。"
   ]
  },
  {
   "cell_type": "code",
   "execution_count": 4,
   "metadata": {},
   "outputs": [
    {
     "name": "stdout",
     "output_type": "stream",
     "text": [
      "Good Morning!\n",
      "Welcome to UNNC!\n",
      "Icewould m5-101 is great!\n"
     ]
    }
   ],
   "source": [
    "print(\"Good Morning!\")\n",
    "print(\"Welcome to UNNC!\")\n",
    "print(\"Icewould m5-101 is great!\")"
   ]
  },
  {
   "cell_type": "markdown",
   "metadata": {},
   "source": [
    "这样子写，程序会按照顺序执行这三句话 。"
   ]
  },
  {
   "cell_type": "markdown",
   "metadata": {},
   "source": [
    "我们不妨把`print`叫命令（让电脑打出文字的命令），括号内是命令的内容。  \n",
    "\n",
    "世界上所有的程序，都可以写成以下形式：  \n",
    "\n",
    "```\n",
    "命令1（内容1）\n",
    "命令2（内容2）\n",
    "命令3（内容3）\n",
    "...\n",
    "```\n",
    "\n",
    "相信我，天问一号火星车的发射程序也不过是以下：  \n",
    "\n",
    "```\n",
    "监控（温度，燃料，重量...）\n",
    "设定目标（火星）\n",
    "点火（火箭）\n",
    "\n",
    "```\n",
    "也许稍微改动一下，就可以送它去月球：  \n",
    "```\n",
    "监控（温度，燃料，重量...）\n",
    "设定目标（月球）\n",
    "点火（火箭）\n",
    "\n",
    "```\n",
    "甚至是搞一场烟火：  \n",
    "```\n",
    "监控（温度，燃料，重量...）\n",
    "设定目标（月球）\n",
    "点火（燃料仓）\n",
    "```\n",
    "看吧，这就是程序猿的快乐。  \n",
    "只不过，这些命令本身，也是由一系列子命令组成的，而且复杂到需要庞大的技术团队去书写和反复测试的。  \n",
    "比如`设定目标`这个命令也许是这样定义的：  \n",
    "```\n",
    "获取坐标（月球）\n",
    "计算距离（发射地点，月球）\n",
    "计算角度（发射地点，月球）\n",
    "设定（距离，角度）\n",
    "...\n",
    "```\n",
    "而子命令又有子命令，子子孙孙无穷匮也。  \n",
    "\n",
    "而我们要做的，就是书写自己的命令，使用别人写好的命令，将它们组织起来，为社会带来生产力。  \n",
    "总而言之，让我们  \n",
    "\n",
    "```\n",
    "改变（世界）\n",
    "```\n"
   ]
  },
  {
   "cell_type": "markdown",
   "metadata": {},
   "source": []
  }
 ],
 "metadata": {
  "kernelspec": {
   "display_name": "Python 3",
   "language": "python",
   "name": "python3"
  },
  "language_info": {
   "codemirror_mode": {
    "name": "ipython",
    "version": 3
   },
   "file_extension": ".py",
   "mimetype": "text/x-python",
   "name": "python",
   "nbconvert_exporter": "python",
   "pygments_lexer": "ipython3",
   "version": "3.6.9"
  }
 },
 "nbformat": 4,
 "nbformat_minor": 2
}
