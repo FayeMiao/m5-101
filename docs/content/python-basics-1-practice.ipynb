{
 "cells": [
  {
   "cell_type": "markdown",
   "id": "egyptian-jungle",
   "metadata": {},
   "source": [
    "# Python 基础练习1\n",
    "请观察我们的示例，并在自己的电脑上创建 Python 文件，完成练习。  \n",
    "`#` 符号后面以及 `\"\"\"` 中间包裹的都是注释，只是给人阅读用的，运行的时候会被电脑无视。"
   ]
  },
  {
   "cell_type": "markdown",
   "id": "detailed-chain",
   "metadata": {},
   "source": [
    "## 定义与赋值——示例"
   ]
  },
  {
   "cell_type": "code",
   "execution_count": 1,
   "id": "nutritional-cassette",
   "metadata": {},
   "outputs": [
    {
     "name": "stdout",
     "output_type": "stream",
     "text": [
      "101\n"
     ]
    }
   ],
   "source": [
    "# 定义数值变量和运算\n",
    "variable_1 = 55\n",
    "variable_2 = 46\n",
    "total = variable_1 + variable_2\n",
    "print(total)"
   ]
  },
  {
   "cell_type": "code",
   "execution_count": 2,
   "id": "rapid-peninsula",
   "metadata": {},
   "outputs": [
    {
     "name": "stdout",
     "output_type": "stream",
     "text": [
      "m5-\n"
     ]
    }
   ],
   "source": [
    "# 定义字符串 \n",
    "some_string = 'm5-'\n",
    "print(some_string)"
   ]
  },
  {
   "cell_type": "code",
   "execution_count": 3,
   "id": "varied-width",
   "metadata": {},
   "outputs": [
    {
     "ename": "TypeError",
     "evalue": "must be str, not int",
     "output_type": "error",
     "traceback": [
      "\u001b[0;31m----------------------------------------------------------\u001b[0m",
      "\u001b[0;31mTypeError\u001b[0m                Traceback (most recent call last)",
      "\u001b[0;32m<ipython-input-3-4b41dc9a36dd>\u001b[0m in \u001b[0;36m<module>\u001b[0;34m\u001b[0m\n\u001b[1;32m      1\u001b[0m \u001b[0;31m# 不能把字符串和数字相加，会报错\u001b[0m\u001b[0;34m\u001b[0m\u001b[0;34m\u001b[0m\u001b[0;34m\u001b[0m\u001b[0m\n\u001b[0;32m----> 2\u001b[0;31m \u001b[0mcamp_code\u001b[0m \u001b[0;34m=\u001b[0m \u001b[0msome_string\u001b[0m \u001b[0;34m+\u001b[0m \u001b[0mtotal\u001b[0m\u001b[0;34m\u001b[0m\u001b[0;34m\u001b[0m\u001b[0m\n\u001b[0m",
      "\u001b[0;31mTypeError\u001b[0m: must be str, not int"
     ]
    }
   ],
   "source": [
    "# 不能把字符串和数字相加，会报错\n",
    "camp_code = some_string + total"
   ]
  },
  {
   "cell_type": "code",
   "execution_count": 4,
   "id": "trying-homeless",
   "metadata": {},
   "outputs": [
    {
     "name": "stdout",
     "output_type": "stream",
     "text": [
      "m5-101\n"
     ]
    }
   ],
   "source": [
    "# str 可以把数字变成字符串，于是可以相加，结果是把两个字符串相连\n",
    "print(some_string + str(total))"
   ]
  },
  {
   "cell_type": "markdown",
   "id": "patient-robert",
   "metadata": {},
   "source": [
    "## 定义与赋值——练习"
   ]
  },
  {
   "cell_type": "markdown",
   "id": "every-conclusion",
   "metadata": {},
   "source": [
    "1. 打印 123456 除以 7 的余数 （使用 % 运算符），结果是 4\n",
    "2. 打印 3.14 的五次方（使用 ** 运算符），结果是 305.2447761824001\n",
    "3. 把前两个输出拼起来输出，结果是 4305.2447761824001"
   ]
  },
  {
   "cell_type": "markdown",
   "id": "accessory-prime",
   "metadata": {},
   "source": [
    "## 条件判断 —— 示例"
   ]
  },
  {
   "cell_type": "code",
   "execution_count": 5,
   "id": "mobile-bible",
   "metadata": {},
   "outputs": [
    {
     "name": "stdout",
     "output_type": "stream",
     "text": [
      "True\n",
      "False\n",
      "False\n",
      "False\n"
     ]
    }
   ],
   "source": [
    "print(True and True)\n",
    "print(True and False)\n",
    "print(False and True)\n",
    "print(False and False)"
   ]
  },
  {
   "cell_type": "code",
   "execution_count": 6,
   "id": "posted-building",
   "metadata": {},
   "outputs": [
    {
     "name": "stdout",
     "output_type": "stream",
     "text": [
      "True\n",
      "True\n",
      "True\n",
      "False\n"
     ]
    }
   ],
   "source": [
    "print(True or True)\n",
    "print(True or False)\n",
    "print(False or True)\n",
    "print(False or False)"
   ]
  },
  {
   "cell_type": "code",
   "execution_count": 7,
   "id": "incomplete-marathon",
   "metadata": {},
   "outputs": [
    {
     "name": "stdout",
     "output_type": "stream",
     "text": [
      "True\n"
     ]
    }
   ],
   "source": [
    "print(2 > 1)"
   ]
  },
  {
   "cell_type": "code",
   "execution_count": 8,
   "id": "friendly-typing",
   "metadata": {},
   "outputs": [
    {
     "name": "stdout",
     "output_type": "stream",
     "text": [
      "True\n"
     ]
    }
   ],
   "source": [
    "print(1 + 1 == 2 or 200 - 1 == 100)"
   ]
  },
  {
   "cell_type": "code",
   "execution_count": 9,
   "id": "acceptable-premium",
   "metadata": {},
   "outputs": [
    {
     "name": "stdout",
     "output_type": "stream",
     "text": [
      "True\n"
     ]
    }
   ],
   "source": [
    "print(False or (1 + 1 < 3 and 2 + 2 == 4))"
   ]
  },
  {
   "cell_type": "code",
   "execution_count": 10,
   "id": "thorough-crisis",
   "metadata": {},
   "outputs": [
    {
     "name": "stdout",
     "output_type": "stream",
     "text": [
      "其它学位\n"
     ]
    }
   ],
   "source": [
    "average_score = 50\n",
    "if average_score >= 90:\n",
    "    print(\"您就是大佬本佬\")\n",
    "elif average_score >= 80:\n",
    "    print(\"拿个奖学金啥的没问题吧\")\n",
    "elif average_score >= 70:\n",
    "    print(\"GPA 4.0\")\n",
    "elif average_score >= 65:\n",
    "    print(\"二等一学位\")\n",
    "elif average_score >= 60:\n",
    "    print(\"二等二学位\")\n",
    "elif average_score >= 40:\n",
    "    print(\"其它学位\")\n",
    "else:\n",
    "    print(\"再来一年\")    "
   ]
  },
  {
   "cell_type": "markdown",
   "id": "proper-festival",
   "metadata": {},
   "source": [
    "# 条件判断——练习"
   ]
  },
  {
   "cell_type": "code",
   "execution_count": 11,
   "id": "cooperative-capitol",
   "metadata": {},
   "outputs": [],
   "source": [
    "# 补充完下列函数\n",
    "x = 14\n",
    "while x > 2:\n",
    "    # if x can be divided by 2, then divide it by 2. Otherwise, multiply it by 3, then plus one.\n",
    "    break # 补充完之后记得把 break 这行删掉"
   ]
  },
  {
   "cell_type": "markdown",
   "id": "nasty-cooling",
   "metadata": {},
   "source": [
    "## 循环与数组——示例"
   ]
  },
  {
   "cell_type": "code",
   "execution_count": 12,
   "id": "acute-helmet",
   "metadata": {},
   "outputs": [
    {
     "name": "stdout",
     "output_type": "stream",
     "text": [
      "0\n",
      "1\n",
      "2\n",
      "3\n",
      "4\n",
      "5\n",
      "6\n",
      "7\n",
      "8\n",
      "9\n"
     ]
    }
   ],
   "source": [
    "# 打印从 0 到 10\n",
    "for i in range(0, 10):\n",
    "    print(i)"
   ]
  },
  {
   "cell_type": "code",
   "execution_count": 13,
   "id": "exclusive-religion",
   "metadata": {},
   "outputs": [
    {
     "name": "stdout",
     "output_type": "stream",
     "text": [
      "0\n",
      "1\n",
      "2\n",
      "3\n",
      "4\n",
      "5\n",
      "6\n",
      "7\n",
      "8\n",
      "9\n"
     ]
    }
   ],
   "source": [
    "# 打印从 0 到 10 的第二种方法\n",
    "i = 0\n",
    "while i < 10:\n",
    "    print(i)\n",
    "    i = i + 1 # 注意与 for 循环不同，这里需要手动更新 i 的值，不然会造成死循环。"
   ]
  },
  {
   "cell_type": "code",
   "execution_count": 14,
   "id": "finnish-balance",
   "metadata": {},
   "outputs": [
    {
     "name": "stdout",
     "output_type": "stream",
     "text": [
      "0\n",
      "2\n",
      "4\n",
      "6\n",
      "8\n"
     ]
    }
   ],
   "source": [
    "# 打印从 0 到 10 中间所有的偶数\n",
    "for i in range(0, 10):\n",
    "    if i % 2 == 0:\n",
    "        print(i)"
   ]
  },
  {
   "cell_type": "markdown",
   "id": "alpine-responsibility",
   "metadata": {},
   "source": [
    "# 循环与数组———练习"
   ]
  },
  {
   "cell_type": "code",
   "execution_count": 15,
   "id": "legendary-queensland",
   "metadata": {},
   "outputs": [
    {
     "name": "stdout",
     "output_type": "stream",
     "text": [
      "4 的阶乘是0\n",
      "10 的阶乘是0\n"
     ]
    }
   ],
   "source": [
    "def factorial(x):\n",
    "    # 给定一个整数 x，请输出它的阶乘，即 x!\n",
    "    # 比如 factorial(4) = 4 * 3 * 2 * 1\n",
    "    result = 0\n",
    "    return 0\n",
    "\n",
    "print(\"4 的阶乘是\" + str(factorial(4)))\n",
    "print(\"10 的阶乘是\" + str(factorial(10)))"
   ]
  },
  {
   "cell_type": "code",
   "execution_count": 16,
   "id": "framed-showcase",
   "metadata": {},
   "outputs": [
    {
     "name": "stdout",
     "output_type": "stream",
     "text": [
      "7是素数\n",
      "41是素数\n",
      "42是素数\n"
     ]
    }
   ],
   "source": [
    "def isPrime(x):\n",
    "# 对于任意的 x，判断它是不是素数。如果是，请执行 return \"是\"，否则请执行 return \"不是\"\n",
    "    if 1 + 1 == 2:\n",
    "        return \"是\"\n",
    "    else:\n",
    "        return \"不是\"\n",
    "        \n",
    "\n",
    "print(\"7\" + isPrime(7) + \"素数\")\n",
    "print(\"41\" + isPrime(41) + \"素数\")\n",
    "print(\"42\" + isPrime(42) + \"素数\")"
   ]
  }
 ],
 "metadata": {
  "kernelspec": {
   "display_name": "Python 3",
   "language": "python",
   "name": "python3"
  },
  "language_info": {
   "codemirror_mode": {
    "name": "ipython",
    "version": 3
   },
   "file_extension": ".py",
   "mimetype": "text/x-python",
   "name": "python",
   "nbconvert_exporter": "python",
   "pygments_lexer": "ipython3",
   "version": "3.6.9"
  }
 },
 "nbformat": 4,
 "nbformat_minor": 5
}
